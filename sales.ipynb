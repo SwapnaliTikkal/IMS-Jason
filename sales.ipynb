{
  "nbformat": 4,
  "nbformat_minor": 0,
  "metadata": {
    "colab": {
      "name": "sales.ipynb",
      "provenance": [],
      "collapsed_sections": []
    },
    "kernelspec": {
      "name": "python3",
      "display_name": "Python 3"
    },
    "language_info": {
      "name": "python"
    }
  },
  "cells": [
    {
      "cell_type": "code",
      "metadata": {
        "colab": {
          "base_uri": "https://localhost:8080/"
        },
        "id": "OH8HMffwbryg",
        "outputId": "cf4acd48-72dd-40f2-c990-88e7fd535d2e"
      },
      "source": [
        "id = int(input(\"Enter the product id:\"))\n",
        "model = str(input(\"enter the product model:\"))\n",
        "price = int(input(\"enter the product price:\"))\n",
        "quantity = int(input(\"enter the Quantity:\"))\n",
        "id2 = int(input(\"Enter the product id:\"))\n",
        "model2 = str(input(\"enter the product model:\"))\n",
        "price2 = int(input(\"enter the product price:\"))\n",
        "quantity2 = int(input(\"enter the Quantity:\"))\n",
        "\n"
      ],
      "execution_count": 2,
      "outputs": [
        {
          "name": "stdout",
          "output_type": "stream",
          "text": [
            "Enter the product id:1\n",
            "enter the product model:samsung\n",
            "enter the product price:12000\n",
            "enter the Quantity:2\n",
            "Enter the product id:2\n",
            "enter the product model:Realme\n",
            "enter the product price:10000\n",
            "enter the Quantity:6\n"
          ]
        }
      ]
    },
    {
      "cell_type": "code",
      "metadata": {
        "id": "PWpEjqHbchzc"
      },
      "source": [
        "sales = {1: {id:'id',model:'model',price:'price',quantity:'quantity','amount':price*quantity},\n",
        "         2: {id2:'id',model2:'model',price2:'price',quantity2:'quantity','amount':price2*quantity2},\n",
        "          }"
      ],
      "execution_count": 4,
      "outputs": []
    },
    {
      "cell_type": "code",
      "metadata": {
        "colab": {
          "base_uri": "https://localhost:8080/"
        },
        "id": "BaaSLKE-dRBC",
        "outputId": "bd0f53b0-87f2-40cd-b2ad-99520f6f7dfe"
      },
      "source": [
        "sales"
      ],
      "execution_count": 5,
      "outputs": [
        {
          "output_type": "execute_result",
          "data": {
            "text/plain": [
              "{1: {1: 'id',\n",
              "  12000: 'price',\n",
              "  2: 'quantity',\n",
              "  'amount': 24000,\n",
              "  'samsung': 'model'},\n",
              " 2: {10000: 'price',\n",
              "  2: 'id',\n",
              "  6: 'quantity',\n",
              "  'Realme': 'model',\n",
              "  'amount': 60000}}"
            ]
          },
          "metadata": {},
          "execution_count": 5
        }
      ]
    },
    {
      "cell_type": "code",
      "metadata": {
        "id": "bZHk1xzVw_dX"
      },
      "source": [
        "import json"
      ],
      "execution_count": 6,
      "outputs": []
    },
    {
      "cell_type": "code",
      "metadata": {
        "colab": {
          "base_uri": "https://localhost:8080/"
        },
        "id": "tsI-iQSZzGeI",
        "outputId": "1ac9c4e9-614f-4c44-e8dc-a983a07de440"
      },
      "source": [
        "# adding new items in sales\n",
        "rec_key = int(input(\"enter the key\"))\n",
        "id = int(input(\"Enter the product id:\"))\n",
        "model = str(input(\"enter the product model:\"))\n",
        "price = int(input(\"enter the product price:\"))\n",
        "quantity = int(input(\"enter the Quantity:\"))\n",
        "sales[rec_key] ={'id':id, 'model':model, 'price':price, 'quantity':quantity , 'amount':price * quantity}\n",
        "fd = open(\"sales.json\",'w')\n",
        "js = json.dumps(sales)\n",
        "fd.write(js)\n",
        "fd.close()\n",
        "#successfully added 28 items"
      ],
      "execution_count": 47,
      "outputs": [
        {
          "name": "stdout",
          "output_type": "stream",
          "text": [
            "enter the key30\n",
            "Enter the product id:30\n",
            "enter the product model:samsung 7\n",
            "enter the product price:45000\n",
            "enter the Quantity:1\n"
          ]
        }
      ]
    },
    {
      "cell_type": "code",
      "metadata": {
        "id": "zq7GM1JNN1aS"
      },
      "source": [
        "fd = open(\"sales.json\",'r')\n",
        "r= fd.read()\n",
        "fd.close()"
      ],
      "execution_count": 60,
      "outputs": []
    },
    {
      "cell_type": "code",
      "metadata": {
        "colab": {
          "base_uri": "https://localhost:8080/"
        },
        "id": "fZDRWAy80R5U",
        "outputId": "4b4683f5-8b30-425b-9a01-d84e1e80e576"
      },
      "source": [
        "sales"
      ],
      "execution_count": 48,
      "outputs": [
        {
          "output_type": "execute_result",
          "data": {
            "text/plain": [
              "{1: {1: 'id',\n",
              "  12000: 'price',\n",
              "  2: 'quantity',\n",
              "  'amount': 24000,\n",
              "  'samsung': 'model'},\n",
              " 2: {10000: 'price',\n",
              "  2: 'id',\n",
              "  6: 'quantity',\n",
              "  'Realme': 'model',\n",
              "  'amount': 60000},\n",
              " 3: {'amount': 240000,\n",
              "  'id': 3,\n",
              "  'model': 'Vivo',\n",
              "  'price': 60000,\n",
              "  'quantity': 4},\n",
              " 4: {'amount': 35000, 'id': 4, 'model': 'OPP0', 'price': 7000, 'quantity': 5},\n",
              " 5: {'amount': 21000,\n",
              "  'id': 5,\n",
              "  'model': 'Redmi Y2',\n",
              "  'price': 7000,\n",
              "  'quantity': 3},\n",
              " 6: {'amount': 24000, 'id': 6, 'model': 'Pico', 'price': 8000, 'quantity': 3},\n",
              " 7: {'amount': 180000,\n",
              "  'id': 7,\n",
              "  'model': 'Realme 7',\n",
              "  'price': 60000,\n",
              "  'quantity': 3},\n",
              " 8: {'amount': 180000,\n",
              "  'id': 8,\n",
              "  'model': 'iPhone X',\n",
              "  'price': 90000,\n",
              "  'quantity': 2},\n",
              " 9: {'amount': 21000,\n",
              "  'id': 9,\n",
              "  'model': 'Micromax',\n",
              "  'price': 7000,\n",
              "  'quantity': 3},\n",
              " 10: {'amount': 15000,\n",
              "  'id': 10,\n",
              "  'model': 'Nokia',\n",
              "  'price': 5000,\n",
              "  'quantity': 3},\n",
              " 11: {'amount': 180000,\n",
              "  'id': 11,\n",
              "  'model': 'Samsung pro7',\n",
              "  'price': 60000,\n",
              "  'quantity': 3},\n",
              " 12: {'amount': 7200,\n",
              "  'id': 12,\n",
              "  'model': 'Real mi 8',\n",
              "  'price': 2400,\n",
              "  'quantity': 3},\n",
              " 13: {'amount': 2400,\n",
              "  'id': 13,\n",
              "  'model': 'Pico M3',\n",
              "  'price': 1200,\n",
              "  'quantity': 2},\n",
              " 14: {'amount': 120000,\n",
              "  'id': 14,\n",
              "  'model': 'Samsung M3',\n",
              "  'price': 60000,\n",
              "  'quantity': 2},\n",
              " 15: {'amount': 40000,\n",
              "  'id': 15,\n",
              "  'model': 'Redmi',\n",
              "  'price': 20000,\n",
              "  'quantity': 2},\n",
              " 16: {'amount': 14000,\n",
              "  'id': 16,\n",
              "  'model': 'xiomi',\n",
              "  'price': 7000,\n",
              "  'quantity': 2},\n",
              " 17: {'amount': 60000,\n",
              "  'id': 17,\n",
              "  'model': 'Iphone 5',\n",
              "  'price': 30000,\n",
              "  'quantity': 2},\n",
              " 18: {'amount': 20000,\n",
              "  'id': 18,\n",
              "  'model': 'Redmi 5',\n",
              "  'price': 10000,\n",
              "  'quantity': 2},\n",
              " 19: {'amount': 80000,\n",
              "  'id': 19,\n",
              "  'model': 'Samsung S8',\n",
              "  'price': 80000,\n",
              "  'quantity': 1},\n",
              " 20: {'amount': 30000,\n",
              "  'id': 20,\n",
              "  'model': 'xiomi note 3',\n",
              "  'price': 30000,\n",
              "  'quantity': 1},\n",
              " 21: {'amount': 80000,\n",
              "  'id': 21,\n",
              "  'model': 'vivo pro',\n",
              "  'price': 40000,\n",
              "  'quantity': 2},\n",
              " 22: {'amount': 20000,\n",
              "  'id': 22,\n",
              "  'model': 'Real mi 9pro',\n",
              "  'price': 20000,\n",
              "  'quantity': 1},\n",
              " 23: {'amount': 16000,\n",
              "  'id': 23,\n",
              "  'model': 'Oppo 3',\n",
              "  'price': 8000,\n",
              "  'quantity': 2},\n",
              " 24: {'amount': 240000,\n",
              "  'id': 24,\n",
              "  'model': 'iPhone 6G',\n",
              "  'price': 120000,\n",
              "  'quantity': 2},\n",
              " 25: {'amount': 18000,\n",
              "  'id': 25,\n",
              "  'model': 'Redmi 4',\n",
              "  'price': 3000,\n",
              "  'quantity': 6},\n",
              " 26: {'amount': 80000,\n",
              "  'id': 26,\n",
              "  'model': 'One Plus note 8',\n",
              "  'price': 40000,\n",
              "  'quantity': 2},\n",
              " 27: {'amount': 30000,\n",
              "  'id': 27,\n",
              "  'model': 'One Plus',\n",
              "  'price': 30000,\n",
              "  'quantity': 1},\n",
              " 28: {'amount': 79998,\n",
              "  'id': 28,\n",
              "  'model': 'Samsung 5pro',\n",
              "  'price': 39999,\n",
              "  'quantity': 2},\n",
              " 29: {'amount': 68000,\n",
              "  'id': 29,\n",
              "  'model': 'Xiomi 8',\n",
              "  'price': 34000,\n",
              "  'quantity': 2},\n",
              " 30: {'amount': 45000,\n",
              "  'id': 30,\n",
              "  'model': 'samsung 7',\n",
              "  'price': 45000,\n",
              "  'quantity': 1}}"
            ]
          },
          "metadata": {},
          "execution_count": 48
        }
      ]
    },
    {
      "cell_type": "code",
      "metadata": {
        "colab": {
          "base_uri": "https://localhost:8080/"
        },
        "id": "ej7P9xZ1qJh0",
        "outputId": "cfea5bb3-965e-4f2f-c6bc-91c262bc3fe1"
      },
      "source": [
        "{(len(sales)+1):{id:'id',model:'model',price:'price',quantity:'quantity'}}"
      ],
      "execution_count": 49,
      "outputs": [
        {
          "output_type": "execute_result",
          "data": {
            "text/plain": [
              "{31: {1: 'quantity', 30: 'id', 45000: 'price', 'samsung 7': 'model'}}"
            ]
          },
          "metadata": {},
          "execution_count": 49
        }
      ]
    },
    {
      "cell_type": "code",
      "metadata": {
        "id": "fss-JdzDMVnz"
      },
      "source": [
        "import time"
      ],
      "execution_count": 51,
      "outputs": []
    },
    {
      "cell_type": "code",
      "metadata": {
        "colab": {
          "base_uri": "https://localhost:8080/",
          "height": 35
        },
        "id": "lrw6H8PUMZ7X",
        "outputId": "865e865f-05a6-4269-c66a-ce01906a2885"
      },
      "source": [
        "time.ctime()"
      ],
      "execution_count": 52,
      "outputs": [
        {
          "output_type": "execute_result",
          "data": {
            "application/vnd.google.colaboratory.intrinsic+json": {
              "type": "string"
            },
            "text/plain": [
              "'Sun Sep  5 18:21:36 2021'"
            ]
          },
          "metadata": {},
          "execution_count": 52
        }
      ]
    },
    {
      "cell_type": "code",
      "metadata": {
        "colab": {
          "base_uri": "https://localhost:8080/"
        },
        "id": "iSrMXprmOHeZ",
        "outputId": "e243e957-1a47-49a2-97f1-5d9ba7c19df0"
      },
      "source": [
        "# to get the total bill of phones of different brands\n",
        "id = int(input(\"Enter the product id:\"))\n",
        "model = str(input(\"enter the product model:\"))\n",
        "print(\"The total amount is\",sales[1]['amount'])\n",
        "id = int(input(\"Enter the product id:\"))\n",
        "model = str(input(\"enter the product model:\"))\n",
        "print(\"The total amount is\",sales[2]['amount'])\n",
        "print(\"The total bill is\",sales[1]['amount']+sales[2]['amount'])"
      ],
      "execution_count": 63,
      "outputs": [
        {
          "output_type": "stream",
          "name": "stdout",
          "text": [
            "Enter the product id:1\n",
            "enter the product model:samsung\n",
            "The total amount is 24000\n",
            "Enter the product id:2\n",
            "enter the product model:realme\n",
            "The total amount is 60000\n",
            "The total bill is 84000\n"
          ]
        }
      ]
    }
  ]
}